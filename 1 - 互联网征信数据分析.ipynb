{
 "cells": [
  {
   "cell_type": "code",
   "execution_count": null,
   "metadata": {},
   "outputs": [],
   "source": [
    "# 1， 把数据表放到工作目录下"
   ]
  },
  {
   "cell_type": "code",
   "execution_count": 1,
   "metadata": {},
   "outputs": [
    {
     "data": {
      "text/html": [
       "<div>\n",
       "<style scoped>\n",
       "    .dataframe tbody tr th:only-of-type {\n",
       "        vertical-align: middle;\n",
       "    }\n",
       "\n",
       "    .dataframe tbody tr th {\n",
       "        vertical-align: top;\n",
       "    }\n",
       "\n",
       "    .dataframe thead th {\n",
       "        text-align: right;\n",
       "    }\n",
       "</style>\n",
       "<table border=\"1\" class=\"dataframe\">\n",
       "  <thead>\n",
       "    <tr style=\"text-align: right;\">\n",
       "      <th></th>\n",
       "      <th>是否按期还款</th>\n",
       "      <th>性别</th>\n",
       "      <th>已婚_未婚</th>\n",
       "      <th>已育_未育</th>\n",
       "      <th>收入</th>\n",
       "      <th>教育水平</th>\n",
       "      <th>英语水平</th>\n",
       "      <th>微博好友数</th>\n",
       "      <th>消费理念</th>\n",
       "    </tr>\n",
       "  </thead>\n",
       "  <tbody>\n",
       "    <tr>\n",
       "      <th>0</th>\n",
       "      <td>1</td>\n",
       "      <td>0</td>\n",
       "      <td>0</td>\n",
       "      <td>1</td>\n",
       "      <td>19823</td>\n",
       "      <td>1</td>\n",
       "      <td>3</td>\n",
       "      <td>36</td>\n",
       "      <td>0.10</td>\n",
       "    </tr>\n",
       "    <tr>\n",
       "      <th>1</th>\n",
       "      <td>1</td>\n",
       "      <td>1</td>\n",
       "      <td>1</td>\n",
       "      <td>0</td>\n",
       "      <td>6408</td>\n",
       "      <td>1</td>\n",
       "      <td>3</td>\n",
       "      <td>25</td>\n",
       "      <td>0.65</td>\n",
       "    </tr>\n",
       "    <tr>\n",
       "      <th>2</th>\n",
       "      <td>1</td>\n",
       "      <td>0</td>\n",
       "      <td>0</td>\n",
       "      <td>1</td>\n",
       "      <td>10001</td>\n",
       "      <td>1</td>\n",
       "      <td>2</td>\n",
       "      <td>65</td>\n",
       "      <td>0.17</td>\n",
       "    </tr>\n",
       "    <tr>\n",
       "      <th>3</th>\n",
       "      <td>1</td>\n",
       "      <td>0</td>\n",
       "      <td>1</td>\n",
       "      <td>0</td>\n",
       "      <td>35078</td>\n",
       "      <td>3</td>\n",
       "      <td>4</td>\n",
       "      <td>43</td>\n",
       "      <td>0.23</td>\n",
       "    </tr>\n",
       "    <tr>\n",
       "      <th>4</th>\n",
       "      <td>1</td>\n",
       "      <td>1</td>\n",
       "      <td>1</td>\n",
       "      <td>1</td>\n",
       "      <td>56145</td>\n",
       "      <td>1</td>\n",
       "      <td>3</td>\n",
       "      <td>24</td>\n",
       "      <td>0.86</td>\n",
       "    </tr>\n",
       "  </tbody>\n",
       "</table>\n",
       "</div>"
      ],
      "text/plain": [
       "   是否按期还款  性别  已婚_未婚  已育_未育     收入  教育水平  英语水平  微博好友数  消费理念\n",
       "0       1   0      0      1  19823     1     3     36  0.10\n",
       "1       1   1      1      0   6408     1     3     25  0.65\n",
       "2       1   0      0      1  10001     1     2     65  0.17\n",
       "3       1   0      1      0  35078     3     4     43  0.23\n",
       "4       1   1      1      1  56145     1     3     24  0.86"
      ]
     },
     "execution_count": 1,
     "metadata": {},
     "output_type": "execute_result"
    }
   ],
   "source": [
    "# 打开数据\n",
    "import pandas as pd\n",
    "import numpy as np\n",
    "import matplotlib.pyplot as plt\n",
    "plt.rcParams['font.sans-serif'] = \"SimHei\"  # 正常显示中文\n",
    "\n",
    "data_df = pd.read_csv(\"simudata.csv\",encoding = \"GBK\")\n",
    "data_df.head()  #  查看前5条信息 不填参数 n ，默认返回 5 行"
   ]
  },
  {
   "cell_type": "code",
   "execution_count": 2,
   "metadata": {},
   "outputs": [
    {
     "name": "stdout",
     "output_type": "stream",
     "text": [
      "数据的行列个数： (1000, 9)\n",
      "数据的列标题： Index(['是否按期还款', '性别', '已婚_未婚', '已育_未育', '收入', '教育水平', '英语水平', '微博好友数',\n",
      "       '消费理念'],\n",
      "      dtype='object')\n",
      "数据的类型： 是否按期还款      int64\n",
      "性别          int64\n",
      "已婚_未婚       int64\n",
      "已育_未育       int64\n",
      "收入          int64\n",
      "教育水平        int64\n",
      "英语水平        int64\n",
      "微博好友数       int64\n",
      "消费理念      float64\n",
      "dtype: object\n",
      "数据的值： [[ 1.    0.    0.   ...  3.   36.    0.1 ]\n",
      " [ 1.    1.    1.   ...  3.   25.    0.65]\n",
      " [ 1.    0.    0.   ...  2.   65.    0.17]\n",
      " ...\n",
      " [ 1.    0.    1.   ...  3.   47.    0.86]\n",
      " [ 0.    0.    0.   ...  2.   32.    0.77]\n",
      " [ 1.    0.    1.   ...  3.   36.    0.36]]\n",
      "数据的行索引： RangeIndex(start=0, stop=1000, step=1)\n"
     ]
    }
   ],
   "source": [
    "# 查看数据的属性\n",
    "\n",
    "# 看数据有多少行，多少列\n",
    "print(\"数据的行列个数：\",data_df.shape)\n",
    "\n",
    "# 看数据的列表题是什么\n",
    "print(\"数据的列标题：\",data_df.columns)\n",
    "\n",
    "# 知道每一列的数据类型是什么\n",
    "print(\"数据的类型：\",data_df.dtypes)\n",
    "\n",
    "# 知道数据的值长什么样子，数据的行缩影长什么样子\n",
    "print(\"数据的值：\",data_df.values)\n",
    "print(\"数据的行索引：\",data_df.index)\n"
   ]
  },
  {
   "cell_type": "code",
   "execution_count": null,
   "metadata": {},
   "outputs": [],
   "source": [
    "# 1，定性数据分析"
   ]
  },
  {
   "cell_type": "code",
   "execution_count": 24,
   "metadata": {},
   "outputs": [
    {
     "name": "stdout",
     "output_type": "stream",
     "text": [
      "\n",
      "请输入性别(男/女/e退出)：男\n",
      "男性的总人数：497\n",
      "按期还款的男性的总人数：324\n",
      "男性的还款能力为：0.65\n",
      "\n",
      "请输入性别(男/女/e退出)：女\n",
      "女性的总人数：503\n",
      "按期还款的女性的总人数：343\n",
      "女性的还款能力为：0.68\n",
      "\n",
      "请输入性别(男/女/e退出)：e\n",
      "{'男': [497, 324, 0.65], '女': [503, 343, 0.68]}\n"
     ]
    }
   ],
   "source": [
    "\n",
    "sex_dict = {\"男\":1,\"女\":0}\n",
    "result_dict = {}\n",
    "while True:\n",
    "    while True:\n",
    "        input_v2 = input(\"\\n请输入性别(男/女/e退出)：\")\n",
    "        if input_v2 in [\"男\",\"女\",\"e\"]:\n",
    "            break\n",
    "        else:\n",
    "            print(\"无效输入！\")\n",
    "    if input_v2.lower() == \"e\":\n",
    "        break\n",
    "\n",
    "    ## 要求1：统计女性的人数？\n",
    "    bool_v2 = data_df[\"性别\"] == sex_dict[input_v2];\n",
    "    female_df = data_df.loc[bool_v2,:]   # 提取女性信息\n",
    "    female_count = female_df.shape[0]    # 查看女性人数\n",
    "    print(f\"{input_v2}性的总人数：{female_count}\")  \n",
    "\n",
    "    ## 要求2,：统计女性中，能按期还款的人数\n",
    "    bool_v3 = data_df[\"是否按期还款\"] == 1;  # 按期还款\n",
    "    Repayment_df = female_df.loc[bool_v3,:]   # 提取按期还款的女性信息\n",
    "    Repayment_count = Repayment_df.shape[0]    # 查看按期还款的女性人数\n",
    "    print(f\"按期还款的{input_v2}性的总人数：{Repayment_count}\") \n",
    "\n",
    "    ### 计算女性的还款能力 = 按期还款的人数/总人数\n",
    "    comp_v2 = np.round(Repayment_count/female_count, 2)\n",
    "    print(f\"{input_v2}性的还款能力为：{comp_v2}\")\n",
    "    result_dict[input_v2]=[female_count,Repayment_count,comp_v2]\n",
    "print(result_dict)\n"
   ]
  },
  {
   "cell_type": "code",
   "execution_count": 20,
   "metadata": {},
   "outputs": [
    {
     "name": "stdout",
     "output_type": "stream",
     "text": [
      "{'男': [497, 324, 0.65], '女': [503, 343, 0.68]}\n"
     ]
    }
   ],
   "source": [
    "## 循环以上代码，将三个结果（总人数，能还款人数，还款能力）放到字典result_dict中\n",
    "## 字典格式：{“男”：[497,243,0.65]，“女”：[503,343,0.68]}\n",
    "\n",
    "sex_dict = {\"男\":1,\"女\":0}\n",
    "result_dict = {}\n",
    "\n",
    "for i_v2 in sex_dict:\n",
    "    ## 要求1：统计女性的人数？\n",
    "    bool_v2 = data_df[\"性别\"] == sex_dict[i_v2];\n",
    "    female_df = data_df.loc[bool_v2,:]   # 提取女性信息\n",
    "    female_count = female_df.shape[0]    # 查看女性人数\n",
    "    # print(f\"{i_v2}性的总人数：{female_count}\")  \n",
    "\n",
    "    ## 要求2,：统计女性中，能按期还款的人数\n",
    "    bool_v3 = data_df[\"是否按期还款\"] == 1;  # 按期还款\n",
    "    Repayment_df = female_df.loc[bool_v3,:]   # 提取按期还款的女性信息\n",
    "    Repayment_count = Repayment_df.shape[0]    # 查看按期还款的女性人数\n",
    "    # print(f\"按期还款的{i_v2}性的总人数：{Repayment_count}\") \n",
    "\n",
    "    ### 计算女性的还款能力 = 按期还款的人数/总人数\n",
    "    comp_v2 = np.round(Repayment_count/female_count, 2)\n",
    "    # print(f\"{i_v2}性的还款能力为：{comp_v2}\")\n",
    "    \n",
    "    result_dict[i_v2]=[female_count,Repayment_count,comp_v2]\n",
    "print(result_dict)\n"
   ]
  },
  {
   "cell_type": "code",
   "execution_count": 26,
   "metadata": {},
   "outputs": [
    {
     "data": {
      "text/html": [
       "<div>\n",
       "<style scoped>\n",
       "    .dataframe tbody tr th:only-of-type {\n",
       "        vertical-align: middle;\n",
       "    }\n",
       "\n",
       "    .dataframe tbody tr th {\n",
       "        vertical-align: top;\n",
       "    }\n",
       "\n",
       "    .dataframe thead th {\n",
       "        text-align: right;\n",
       "    }\n",
       "</style>\n",
       "<table border=\"1\" class=\"dataframe\">\n",
       "  <thead>\n",
       "    <tr style=\"text-align: right;\">\n",
       "      <th></th>\n",
       "      <th>男</th>\n",
       "      <th>女</th>\n",
       "    </tr>\n",
       "  </thead>\n",
       "  <tbody>\n",
       "    <tr>\n",
       "      <th>总人数</th>\n",
       "      <td>497.00</td>\n",
       "      <td>503.00</td>\n",
       "    </tr>\n",
       "    <tr>\n",
       "      <th>可还款人数</th>\n",
       "      <td>324.00</td>\n",
       "      <td>343.00</td>\n",
       "    </tr>\n",
       "    <tr>\n",
       "      <th>还款能力</th>\n",
       "      <td>0.65</td>\n",
       "      <td>0.68</td>\n",
       "    </tr>\n",
       "  </tbody>\n",
       "</table>\n",
       "</div>"
      ],
      "text/plain": [
       "            男       女\n",
       "总人数    497.00  503.00\n",
       "可还款人数  324.00  343.00\n",
       "还款能力     0.65    0.68"
      ]
     },
     "execution_count": 26,
     "metadata": {},
     "output_type": "execute_result"
    }
   ],
   "source": [
    "result_dict\n",
    "# 将统计结果转换成表格\n",
    "use_df = pd.DataFrame(result_dict,index=[\"总人数\",\"可还款人数\",\"还款能力\"])\n",
    "use_df"
   ]
  },
  {
   "cell_type": "code",
   "execution_count": 32,
   "metadata": {},
   "outputs": [
    {
     "data": {
      "image/png": "[encoded data removed]",
      "text/plain": [
       "<Figure size 432x288 with 1 Axes>"
      ]
     },
     "metadata": {
      "needs_background": "light"
     },
     "output_type": "display_data"
    }
   ],
   "source": [
    "# 绘制图形\n",
    "# 导入绘图命令\n",
    "import matplotlib.pyplot as plt\n",
    "\n",
    "\n",
    "# 准备数据\n",
    "x_data = use_df.columns\n",
    "y_data = use_df.loc[\"总人数\",:]\n",
    "\n",
    "\n",
    "# 绘制图形\n",
    "plt.bar(x_data, y_data, width = 0.8, color = \"yellow\")\n",
    "\n",
    "for i in range(len(x_data)):\n",
    "    plt.text(x_data[i], y_data[i], y_data[i])\n",
    "\n",
    "plt.title(\"性别总人数柱形图\")\n",
    "plt.xlabel(\"性别\")\n",
    "plt.ylabel(\"人数\")\n",
    "\n",
    "# 显示保存图形\n",
    "plt.savefig(\"性别统计结果图.jpg\")\n",
    "plt.show()\n"
   ]
  },
  {
   "cell_type": "code",
   "execution_count": 1,
   "metadata": {},
   "outputs": [
    {
     "name": "stdout",
     "output_type": "stream",
     "text": [
      "\n",
      "请输入统计关键字(性别/教育水平/英语水平/已婚_未婚/已育_未育/e退出)：性别\n",
      "\n",
      "请输入性别(男|女，按e退出）：男\n",
      "性别为男的总人数：497\n",
      "按期还款的性别为男的总人数：324\n",
      "性别为男的还款能力为：0.65\n",
      "\n",
      "请输入性别(男|女，按e退出）：女\n",
      "性别为女的总人数：503\n",
      "按期还款的性别为女的总人数：343\n",
      "性别为女的还款能力为：0.68\n",
      "\n",
      "请输入性别(男|女，按e退出）：e\n"
     ]
    },
    {
     "data": {
      "image/png": "[encoded data removed]",
      "text/plain": [
       "<Figure size 432x288 with 1 Axes>"
      ]
     },
     "metadata": {
      "needs_background": "light"
     },
     "output_type": "display_data"
    },
    {
     "name": "stdout",
     "output_type": "stream",
     "text": [
      "程序正常\n",
      "\n",
      "请输入统计关键字(性别/教育水平/英语水平/已婚_未婚/已育_未育/e退出)：e\n",
      " *** 程序已退出！ \n"
     ]
    }
   ],
   "source": [
    "# 函数化定性数据统计\n",
    "import pandas as pd\n",
    "import numpy as np\n",
    "import matplotlib.pyplot as plt\n",
    "plt.rcParams['font.sans-serif'] = \"SimHei\"  # 正常显示中文\n",
    "\n",
    "# 函数1：统计函数\n",
    "def stat_def(data_df,key_v2,key_dict):\n",
    "    sex_dict = key_dict\n",
    "    result_dict = {}  # 存放结果\n",
    "    while True:\n",
    "        while True:\n",
    "            input_v2 = input(f'\\n请输入{key_v2}({\"|\".join(list(key_dict.keys()))}，按e退出）：')\n",
    "            if input_v2 in list(key_dict.keys()) or input_v2 == \"e\":\n",
    "                break\n",
    "            else:\n",
    "                print(\"无效输入！\")\n",
    "        if input_v2.lower() == \"e\":\n",
    "            break\n",
    "\n",
    "        ## 要求1：统计女性的人数？\n",
    "        bool_v2 = data_df[key_v2] == sex_dict[input_v2];\n",
    "        female_df = data_df.loc[bool_v2,:]   # 提取女性信息\n",
    "        female_count = female_df.shape[0]    # 查看女性人数\n",
    "        print(f\"{key_v2}为{input_v2}的总人数：{female_count}\")  \n",
    "\n",
    "        ## 要求2,：统计女性中，能按期还款的人数\n",
    "        bool_v3 = data_df[\"是否按期还款\"] == 1;  # 按期还款\n",
    "        Repayment_df = female_df.loc[bool_v3,:]   # 提取按期还款的女性信息\n",
    "        Repayment_count = Repayment_df.shape[0]    # 查看按期还款的女性人数\n",
    "        print(f\"按期还款的{key_v2}为{input_v2}的总人数：{Repayment_count}\") \n",
    "\n",
    "        ### 计算还款能力 = 按期还款的人数/总人数\n",
    "        comp_v2 = np.round(Repayment_count/female_count, 2)\n",
    "        print(f\"{key_v2}为{input_v2}的还款能力为：{comp_v2}\")\n",
    "        result_dict[input_v2]=[female_count,Repayment_count,comp_v2]\n",
    "    return result_dict\n",
    "\n",
    "\n",
    "# 函数2：绘图函数\n",
    "def matp_def(result_dict,key_v2):\n",
    "    \n",
    "    use_df = pd.DataFrame(result_dict,index=[\"总人数\",\"可还款人数\",\"还款能力\"])\n",
    "    \n",
    "    # 准备数据\n",
    "    x_data = use_df.columns\n",
    "    y_data = use_df.loc[\"总人数\",:]\n",
    "\n",
    "    # 绘制图形\n",
    "    plt.bar(x_data, y_data, width = 0.8, color = \"yellow\")\n",
    "\n",
    "    for i in range(len(x_data)):\n",
    "        plt.text(x_data[i], y_data[i], y_data[i])\n",
    "\n",
    "    plt.title(f\"{key_v2}总人数柱形图\")\n",
    "    plt.xlabel(f\"{key_v2}\")\n",
    "    plt.ylabel(\"人数\")\n",
    "\n",
    "    # 显示保存图形\n",
    "    plt.savefig(f\"{key_v2}统计结果图.jpg\")\n",
    "    plt.show()\n",
    "\n",
    "# 主函数\n",
    "def main():\n",
    "    data_df = pd.read_csv(\"simudata.csv\",encoding = \"GBK\")  # 打开数据表\n",
    "    \n",
    "    while True:\n",
    "        input_v2 = input(\"\\n请输入统计关键字(性别/教育水平/英语水平/已婚_未婚/已育_未育/e退出)：\")\n",
    "        if input_v2.lower() == \"e\":\n",
    "            break\n",
    "        elif input_v2 in [\"性别\",\"教育水平\",\"英语水平\",\"已婚_未婚\",\"已育_未育\",\"e\",\"E\"]:\n",
    "            # 声明关键字值字典\n",
    "            sex_dict = {\"男\":1,\"女\":0}                             # 性别\n",
    "            edu_dict = {\"高中\":1, \"本科\":2, \"研究生\":3, \"博士\":4}  # 教育水平\n",
    "            english_dict = {\"四级以下\":1, \"四级\":2, \"六级\":3, \"六级以上\":4} # 英语水平\n",
    "            marriage_dict = {\"未婚\":0, \"已婚\":1}                    # 婚姻\n",
    "            birth_dict = {\"未育\":0, \"已育\":1}                      # 生育\n",
    "            \n",
    "            # 选择关键字值字典\n",
    "            key_dict = {\"性别\":sex_dict, \"教育水平\":edu_dict, \"英语水平\":english_dict, \"已婚_未婚\":marriage_dict, \"已育_未育\":birth_dict}\n",
    "\n",
    "            # 调用函数\n",
    "            result_dict = stat_def(data_df,input_v2,key_dict[input_v2])  # 统计函数\n",
    "            matp_def(result_dict,input_v2)   # 绘图函数\n",
    "            print(\"程序正常\")  \n",
    "        else :\n",
    "            print(\"无效输入，请输入已有的关键字！\")\n",
    "    \n",
    "    print(\" *** 程序已退出！ \")\n",
    "\n",
    "if __name__==\"__main__\":\n",
    "    main()\n"
   ]
  },
  {
   "cell_type": "code",
   "execution_count": null,
   "metadata": {},
   "outputs": [],
   "source": []
  },
  {
   "cell_type": "code",
   "execution_count": null,
   "metadata": {},
   "outputs": [],
   "source": []
  },
  {
   "cell_type": "code",
   "execution_count": null,
   "metadata": {},
   "outputs": [],
   "source": []
  },
  {
   "cell_type": "code",
   "execution_count": null,
   "metadata": {},
   "outputs": [],
   "source": []
  }
 ],
 "metadata": {
  "kernelspec": {
   "display_name": "Python 3 (ipykernel)",
   "language": "python",
   "name": "python3"
  },
  "language_info": {
   "codemirror_mode": {
    "name": "ipython",
    "version": 3
   },
   "file_extension": ".py",
   "mimetype": "text/x-python",
   "name": "python",
   "nbconvert_exporter": "python",
   "pygments_lexer": "ipython3",
   "version": "3.9.12"
  }
 },
 "nbformat": 4,
 "nbformat_minor": 4
}
