{
 "cells": [
  {
   "cell_type": "code",
   "execution_count": 1,
   "metadata": {},
   "outputs": [],
   "source": [
    "import pandas as pd\n",
    "import numpy as np\n",
    "# 消除警告的命令\n",
    "import warnings\n",
    "warnings.filterwarnings(\"ignore\")\n",
    "# 绘图\n",
    "import matplotlib.pyplot as plt\n",
    "plt.rcParams['font.sans-serif'] = \"SimHei\"  # 正常显示中文\n",
    "# 动态绘图\n",
    "from matplotlib.animation import FuncAnimation\n"
   ]
  },
  {
   "cell_type": "code",
   "execution_count": 5,
   "metadata": {},
   "outputs": [
    {
     "name": "stdout",
     "output_type": "stream",
     "text": [
      "Using matplotlib backend: QtAgg\n"
     ]
    }
   ],
   "source": [
    "# 以窗口形式显示结果\n",
    "%matplotlib\n",
    "\n",
    "# 打开表函数\n",
    "def open_data_def():\n",
    "    data_df = pd.read_csv(\"transactions.csv\", encoding = \"GBK\")\n",
    "    # 将列表题修改成中文的\n",
    "    data_df.columns = [\"客户号\", \"银行卡号\", \"刷卡金额\", \"刷卡时间\", \"卡类型\"]\n",
    "    # 数据清洗--检测和处理重复值\n",
    "    if data_df.duplicated().sum():\n",
    "        use_df = data_df.drop_duplicates()\n",
    "\n",
    "    return use_df\n",
    "\n",
    "# 添加时间函数\n",
    "def add_time():\n",
    "    use_df = open_data_def()  # 打开表函数\n",
    "    \n",
    "    # 统计和时间有关的数据类型\n",
    "    # 1.先把时间转换为标准时间格式\n",
    "    use_df[\"刷卡时间\"] = pd.to_datetime(use_df[\"刷卡时间\"])\n",
    "\n",
    "    # 2.给表添加列年，月，日，时\n",
    "    use_df[\"年\"] = use_df[\"刷卡时间\"].dt.year\n",
    "    use_df[\"月\"] = use_df[\"刷卡时间\"].dt.month\n",
    "    use_df[\"日\"] = use_df[\"刷卡时间\"].dt.day\n",
    "    use_df[\"时\"] = use_df[\"刷卡时间\"].dt.hour\n",
    "    \n",
    "    return use_df\n",
    "\n",
    "# 数据透视表函数\n",
    "use_df = add_time()  # 调用添加时间信息函数\n",
    "\n",
    "# 统计每月每天的刷卡金额和值 -- 数据透视表函数\n",
    "month_day_df = pd.pivot_table(use_df, index=\"日\", columns=\"月\", values=\"刷卡金额\", aggfunc=np.sum)\n",
    "\n",
    "# 绘图：用折线图绘制每个月份每天的数据\n",
    "def draw_def():\n",
    "    # 画布\n",
    "    fig = plt.figure(figsize=(10,8),dpi=80)\n",
    "\n",
    "    def animate(i):\n",
    "        # 准备数据\n",
    "        plt.gca().cla()  # 动态画图前 清除画布，再重新绘图\n",
    "\n",
    "        x_data = month_day_df.index\n",
    "        y_data = month_day_df[i+1].values\n",
    "        # 绘制图形\n",
    "        color = [\"b\",\"g\",\"r\",\"c\",\"m\",\"y\",\"k\"]  # 随机颜色\n",
    "        color_v2 = np.random.choice(color)\n",
    "        plot = [\"-\",\"--\",\":\",\"-.\",\"\"]  # 随机线条\n",
    "        plot_v2 = np.random.choice(plot)\n",
    "\n",
    "        plt.plot(x_data, y_data, color_v2+plot_v2)\n",
    "        plt.xticks(x_data)\n",
    "\n",
    "        title_obj = plt.title(f\"{i+1}月每天刷卡金额折线图\")\n",
    "        plt.setp(title_obj, color=color_v2)  # 设置标题颜色和线条颜色相同\n",
    "\n",
    "        plt.xlabel(\"月\")\n",
    "        plt.ylabel(\"金额\")\n",
    "\n",
    "    ani = FuncAnimation(fig=fig,func=animate,frames=12,interval=500) # 半秒钟绘制一个\n",
    "    return ani\n",
    "\n",
    "ani = draw_def()\n",
    "plt.show()"
   ]
  },
  {
   "cell_type": "code",
   "execution_count": null,
   "metadata": {},
   "outputs": [],
   "source": []
  },
  {
   "cell_type": "code",
   "execution_count": null,
   "metadata": {},
   "outputs": [],
   "source": []
  }
 ],
 "metadata": {
  "kernelspec": {
   "display_name": "Python 3 (ipykernel)",
   "language": "python",
   "name": "python3"
  },
  "language_info": {
   "codemirror_mode": {
    "name": "ipython",
    "version": 3
   },
   "file_extension": ".py",
   "mimetype": "text/x-python",
   "name": "python",
   "nbconvert_exporter": "python",
   "pygments_lexer": "ipython3",
   "version": "3.9.12"
  }
 },
 "nbformat": 4,
 "nbformat_minor": 4
}
